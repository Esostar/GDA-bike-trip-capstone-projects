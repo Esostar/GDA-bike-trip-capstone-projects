{
 "cells": [
  {
   "cell_type": "code",
   "execution_count": 1,
   "id": "c735eb05",
   "metadata": {},
   "outputs": [
    {
     "name": "stdout",
     "output_type": "stream",
     "text": [
      "Requirement already satisfied: pandas in c:\\users\\acer\\anaconda3\\lib\\site-packages (1.5.3)\n",
      "Requirement already satisfied: pytz>=2020.1 in c:\\users\\acer\\anaconda3\\lib\\site-packages (from pandas) (2022.7)\n",
      "Requirement already satisfied: python-dateutil>=2.8.1 in c:\\users\\acer\\appdata\\roaming\\python\\python310\\site-packages (from pandas) (2.8.2)\n",
      "Requirement already satisfied: numpy>=1.21.0 in c:\\users\\acer\\anaconda3\\lib\\site-packages (from pandas) (1.23.5)\n",
      "Requirement already satisfied: six>=1.5 in c:\\users\\acer\\appdata\\roaming\\python\\python310\\site-packages (from python-dateutil>=2.8.1->pandas) (1.16.0)\n",
      "Requirement already satisfied: openpyxl in c:\\users\\acer\\anaconda3\\lib\\site-packages (3.0.10)\n",
      "Requirement already satisfied: et_xmlfile in c:\\users\\acer\\anaconda3\\lib\\site-packages (from openpyxl) (1.1.0)\n"
     ]
    }
   ],
   "source": [
    "# write a program to append workbook tables together on Excel using python\n",
    "!pip install pandas\n",
    "!pip install openpyxl"
   ]
  },
  {
   "cell_type": "code",
   "execution_count": 2,
   "id": "33047c52",
   "metadata": {},
   "outputs": [],
   "source": [
    "import pandas as pd\n",
    "import os\n",
    "import openpyxl\n"
   ]
  },
  {
   "cell_type": "code",
   "execution_count": 4,
   "id": "e85bc58c",
   "metadata": {},
   "outputs": [
    {
     "name": "stderr",
     "output_type": "stream",
     "text": [
      "C:\\Users\\ACER\\AppData\\Local\\Temp\\ipykernel_7712\\2479004026.py:11: FutureWarning: The frame.append method is deprecated and will be removed from pandas in a future version. Use pandas.concat instead.\n",
      "  GDA_bike_dataset = GDA_bike_dataset.append(data, ignore_index=True)\n",
      "C:\\Users\\ACER\\AppData\\Local\\Temp\\ipykernel_7712\\2479004026.py:11: FutureWarning: The frame.append method is deprecated and will be removed from pandas in a future version. Use pandas.concat instead.\n",
      "  GDA_bike_dataset = GDA_bike_dataset.append(data, ignore_index=True)\n",
      "C:\\Users\\ACER\\AppData\\Local\\Temp\\ipykernel_7712\\2479004026.py:11: FutureWarning: The frame.append method is deprecated and will be removed from pandas in a future version. Use pandas.concat instead.\n",
      "  GDA_bike_dataset = GDA_bike_dataset.append(data, ignore_index=True)\n",
      "C:\\Users\\ACER\\AppData\\Local\\Temp\\ipykernel_7712\\2479004026.py:11: FutureWarning: The frame.append method is deprecated and will be removed from pandas in a future version. Use pandas.concat instead.\n",
      "  GDA_bike_dataset = GDA_bike_dataset.append(data, ignore_index=True)\n",
      "C:\\Users\\ACER\\AppData\\Local\\Temp\\ipykernel_7712\\2479004026.py:11: FutureWarning: The frame.append method is deprecated and will be removed from pandas in a future version. Use pandas.concat instead.\n",
      "  GDA_bike_dataset = GDA_bike_dataset.append(data, ignore_index=True)\n",
      "C:\\Users\\ACER\\AppData\\Local\\Temp\\ipykernel_7712\\2479004026.py:11: FutureWarning: The frame.append method is deprecated and will be removed from pandas in a future version. Use pandas.concat instead.\n",
      "  GDA_bike_dataset = GDA_bike_dataset.append(data, ignore_index=True)\n",
      "C:\\Users\\ACER\\AppData\\Local\\Temp\\ipykernel_7712\\2479004026.py:11: FutureWarning: The frame.append method is deprecated and will be removed from pandas in a future version. Use pandas.concat instead.\n",
      "  GDA_bike_dataset = GDA_bike_dataset.append(data, ignore_index=True)\n",
      "C:\\Users\\ACER\\AppData\\Local\\Temp\\ipykernel_7712\\2479004026.py:11: FutureWarning: The frame.append method is deprecated and will be removed from pandas in a future version. Use pandas.concat instead.\n",
      "  GDA_bike_dataset = GDA_bike_dataset.append(data, ignore_index=True)\n",
      "C:\\Users\\ACER\\AppData\\Local\\Temp\\ipykernel_7712\\2479004026.py:11: FutureWarning: The frame.append method is deprecated and will be removed from pandas in a future version. Use pandas.concat instead.\n",
      "  GDA_bike_dataset = GDA_bike_dataset.append(data, ignore_index=True)\n",
      "C:\\Users\\ACER\\AppData\\Local\\Temp\\ipykernel_7712\\2479004026.py:11: FutureWarning: The frame.append method is deprecated and will be removed from pandas in a future version. Use pandas.concat instead.\n",
      "  GDA_bike_dataset = GDA_bike_dataset.append(data, ignore_index=True)\n",
      "C:\\Users\\ACER\\AppData\\Local\\Temp\\ipykernel_7712\\2479004026.py:11: FutureWarning: The frame.append method is deprecated and will be removed from pandas in a future version. Use pandas.concat instead.\n",
      "  GDA_bike_dataset = GDA_bike_dataset.append(data, ignore_index=True)\n",
      "C:\\Users\\ACER\\AppData\\Local\\Temp\\ipykernel_7712\\2479004026.py:11: FutureWarning: The frame.append method is deprecated and will be removed from pandas in a future version. Use pandas.concat instead.\n",
      "  GDA_bike_dataset = GDA_bike_dataset.append(data, ignore_index=True)\n"
     ]
    },
    {
     "name": "stdout",
     "output_type": "stream",
     "text": [
      "Combined data GDA CAPSTONE DATASETS saved to 'GDA_bike_dataset.csv' successfully.\n"
     ]
    }
   ],
   "source": [
    "# Specify the folder containing the Excel files\n",
    "folder_path = r\"C:\\Users\\ACER\\Desktop\\my_project datatasets\\2021_data_csv\"\n",
    "# Initialize an empty DataFrame to store the combined data\n",
    "GDA_bike_dataset = pd.DataFrame()\n",
    "\n",
    "# Loop through each Excel file in the folder\n",
    "for filename in os.listdir(folder_path):\n",
    "    if filename.endswith('.csv'):\n",
    "        file_path = os.path.join(folder_path, filename)\n",
    "        data = pd.read_csv(file_path)\n",
    "        GDA_bike_dataset = GDA_bike_dataset.append(data, ignore_index=True)\n",
    "\n",
    "# Save the combined data to a new Excel file\n",
    "output_file = 'GDA_bike_dataset.csv'\n",
    "GDA_bike_dataset.to_csv(output_file, index=False)\n",
    "\n",
    "print(f\"Combined data GDA CAPSTONE DATASETS saved to '{output_file}' successfully.\")"
   ]
  },
  {
   "cell_type": "code",
   "execution_count": 6,
   "id": "901c66cb",
   "metadata": {},
   "outputs": [
    {
     "name": "stdout",
     "output_type": "stream",
     "text": [
      "File location: C:\\Users\\ACER\\GDA_bike_dataset.csv\n"
     ]
    }
   ],
   "source": [
    "# Specify the file name or full path\n",
    "file_name = \"GDA_bike_dataset.csv\"  \n",
    "\n",
    "# Get the current working directory\n",
    "current_directory = os.getcwd()\n",
    "\n",
    "# Create the full path to the file\n",
    "file_path = os.path.join(current_directory, file_name)\n",
    "\n",
    "# Check if the file exists\n",
    "if os.path.exists(file_path):\n",
    "    # Print the full path of the file\n",
    "    print(\"File location:\", file_path)\n",
    "else:\n",
    "    print(\"File does not exist.\")\n"
   ]
  },
  {
   "cell_type": "code",
   "execution_count": 1,
   "id": "1929451b",
   "metadata": {},
   "outputs": [
    {
     "ename": "NameError",
     "evalue": "name 'pd' is not defined",
     "output_type": "error",
     "traceback": [
      "\u001b[1;31m---------------------------------------------------------------------------\u001b[0m",
      "\u001b[1;31mNameError\u001b[0m                                 Traceback (most recent call last)",
      "Cell \u001b[1;32mIn[1], line 5\u001b[0m\n\u001b[0;32m      2\u001b[0m excel_path \u001b[38;5;241m=\u001b[39m \u001b[38;5;124mr\u001b[39m\u001b[38;5;124m'\u001b[39m\u001b[38;5;124mC:\u001b[39m\u001b[38;5;124m\\\u001b[39m\u001b[38;5;124mUsers\u001b[39m\u001b[38;5;124m\\\u001b[39m\u001b[38;5;124mACER\u001b[39m\u001b[38;5;124m\\\u001b[39m\u001b[38;5;124mGDA_bike_dataset.csv\u001b[39m\u001b[38;5;124m'\u001b[39m\n\u001b[0;32m      4\u001b[0m \u001b[38;5;66;03m# Load the Excel file into a DataFrame\u001b[39;00m\n\u001b[1;32m----> 5\u001b[0m df \u001b[38;5;241m=\u001b[39m \u001b[43mpd\u001b[49m\u001b[38;5;241m.\u001b[39mread_csv(excel_path)\n\u001b[0;32m      7\u001b[0m \u001b[38;5;66;03m# Print the first few rows of the DataFrame\u001b[39;00m\n\u001b[0;32m      8\u001b[0m \u001b[38;5;28mprint\u001b[39m(df\u001b[38;5;241m.\u001b[39mhead())\n",
      "\u001b[1;31mNameError\u001b[0m: name 'pd' is not defined"
     ]
    }
   ],
   "source": [
    "# load data into dataframe \n",
    "excel_path = r'C:\\Users\\ACER\\GDA_bike_dataset.csv'\n",
    "\n",
    "# Load the Excel file into a DataFrame\n",
    "df = pd.read_csv(excel_path)\n",
    "\n",
    "# Print the first few rows of the DataFrame\n",
    "print(df.head())"
   ]
  },
  {
   "cell_type": "code",
   "execution_count": null,
   "id": "1168162c",
   "metadata": {},
   "outputs": [],
   "source": []
  },
  {
   "cell_type": "code",
   "execution_count": null,
   "id": "637ba500",
   "metadata": {},
   "outputs": [],
   "source": [
    "#import pandas as pd\n",
    "\n",
    "# Specify the data types for columns with mixed types\n",
    "#dtypes = {'column_name_4': 'desired_dtype_4', 'column_name_9': 'desired_dtype_9', 'column_name_16': 'desired_dtype_16', 'column_name_17': 'desired_dtype_17'}\n",
    "\n",
    "# Read the CSV file with specified data types\n",
    "#df = pd.read_csv(excel_path, dtype=dtypes)\n"
   ]
  }
 ],
 "metadata": {
  "kernelspec": {
   "display_name": "Python 3 (ipykernel)",
   "language": "python",
   "name": "python3"
  },
  "language_info": {
   "codemirror_mode": {
    "name": "ipython",
    "version": 3
   },
   "file_extension": ".py",
   "mimetype": "text/x-python",
   "name": "python",
   "nbconvert_exporter": "python",
   "pygments_lexer": "ipython3",
   "version": "3.10.9"
  }
 },
 "nbformat": 4,
 "nbformat_minor": 5
}
