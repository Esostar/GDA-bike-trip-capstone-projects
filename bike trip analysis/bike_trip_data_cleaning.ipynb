{
 "cells": [
  {
   "cell_type": "code",
   "execution_count": 1,
   "id": "381b0fb5",
   "metadata": {},
   "outputs": [],
   "source": [
    "# installing necessary library\n",
    "!pip install numpy \n",
    "!pip install pandas \n",
    "!pip install matplotlib \n",
    "!pip install seaborn \n",
    "!pip install scipy scikit-learn "
   ]
  },
  {
   "cell_type": "code",
   "execution_count": 2,
   "id": "2f568ac8",
   "metadata": {},
   "outputs": [],
   "source": [
    "# importing  data analysis libraries \n",
    "import numpy as np           # For numerical operations\n",
    "import pandas as pd          # For data manipulation and analysis\n",
    "import matplotlib.pyplot as plt  # For basic data visualization\n",
    "import seaborn as sns        # For advanced data visualization\n",
    "import scipy.stats as stats  # For statistical functions\n",
    "import sklearn               # For machine learning and data preprocessing\n",
    "import statsmodels.api as sm # For statistical modeling\n",
    "import plotly.express as px  # For interactive data visualization\n",
    "import datetime              # For working with dates and times\n"
   ]
  },
  {
   "cell_type": "code",
   "execution_count": null,
   "id": "0e58cda6",
   "metadata": {},
   "outputs": [],
   "source": [
    "# load the data into pandas dataframe \n",
    "excel_path = r'C:\\Users\\ACER\\combined_bike_dataset.csv'\n",
    "\n",
    "# Load the Excel file into a DataFrame, setting low memory to make colume dtype consistent \n",
    "bike_trip = pd.read_csv(excel_path, low_memory=False)\n",
    "\n",
    "# Print the first few rows of the DataFrame\n",
    "print(bike_trip.head())"
   ]
  },
  {
   "cell_type": "code",
   "execution_count": null,
   "id": "bf8f4065",
   "metadata": {},
   "outputs": [],
   "source": [
    "bike_trip.info()"
   ]
  },
  {
   "cell_type": "code",
   "execution_count": null,
   "id": "975fe0ba",
   "metadata": {},
   "outputs": [],
   "source": [
    "bike_trip.describe()"
   ]
  },
  {
   "cell_type": "code",
   "execution_count": null,
   "id": "8bfdcd1b",
   "metadata": {},
   "outputs": [],
   "source": [
    "bike_trip.shape"
   ]
  },
  {
   "cell_type": "code",
   "execution_count": null,
   "id": "f921dc11",
   "metadata": {},
   "outputs": [],
   "source": [
    "# drop some irrilevant columns to our analysis \n",
    "# List of column names to drop\n",
    "columns_to_drop = ['start_lat','start_lng','end_lat','end_lng']\n",
    "\n",
    "# Drop the specified columns\n",
    "bike_trip = bike_trip.drop(columns=columns_to_drop, axis=1)\n",
    "\n",
    "bike_trip.head()"
   ]
  },
  {
   "cell_type": "code",
   "execution_count": null,
   "id": "fd2c47cf",
   "metadata": {},
   "outputs": [],
   "source": [
    "bike_trip.tail()"
   ]
  },
  {
   "cell_type": "code",
   "execution_count": null,
   "id": "4199c80a",
   "metadata": {},
   "outputs": [],
   "source": [
    "bike_trip.describe()"
   ]
  },
  {
   "cell_type": "code",
   "execution_count": null,
   "id": "c2e08a60",
   "metadata": {},
   "outputs": [],
   "source": [
    "bike_trip.describe(include=\"all\")"
   ]
  },
  {
   "cell_type": "code",
   "execution_count": null,
   "id": "cc903038",
   "metadata": {},
   "outputs": [],
   "source": [
    "bike_trip.columns"
   ]
  },
  {
   "cell_type": "code",
   "execution_count": null,
   "id": "4fc95a66",
   "metadata": {},
   "outputs": [],
   "source": [
    "# Rename columns using the rename() method for the specific table\n",
    "# Rename the column using the rename() method\n",
    "new_column_names = {'ride_id': 'Ride_Rental_ID'}\n",
    "bike_trip.rename(columns=new_column_names, inplace=True)\n",
    "\n",
    "new_column_names = {'rideable_type': 'Ride_Rental_type'}\n",
    "bike_trip.rename(columns=new_column_names, inplace=True)\n",
    "\n",
    "new_column_names = {'started_at': 'start_time'}\n",
    "bike_trip.rename(columns=new_column_names, inplace=True)\n",
    "\n",
    "new_column_names = {'ended_at': 'End_time'}\n",
    "bike_trip.rename(columns=new_column_names, inplace=True)\n",
    "\n",
    "new_column_names = {'ride_lenght ': 'ride_length'}\n",
    "bike_trip.rename(columns=new_column_names, inplace=True)\n",
    "\n",
    "new_column_names = {'dayz_of_week': 'days_of_week'}\n",
    "bike_trip.rename(columns=new_column_names, inplace=True)\n",
    "\n",
    "new_column_names = {'member_casual': 'user_type'}\n",
    "bike_trip.rename(columns=new_column_names, inplace=True)\n",
    "\n",
    "new_column_names = {'ride_length ': 'ride_length'}\n",
    "bike_trip.rename(columns=new_column_names, inplace=True)\n",
    "\n",
    "bike_trip.head()\n",
    "\n",
    "\n"
   ]
  },
  {
   "cell_type": "code",
   "execution_count": null,
   "id": "31ce748d",
   "metadata": {},
   "outputs": [],
   "source": [
    "bike_trip.columns"
   ]
  },
  {
   "cell_type": "code",
   "execution_count": null,
   "id": "5a8625db",
   "metadata": {},
   "outputs": [],
   "source": [
    "# Concatenate the three 'ride_length' columns into a single column\n",
    "bike_trip['ride_length'] = bike_trip['ride_length'].astype(str) + bike_trip['ride_length'].astype(str) + bike_trip['ride_length'].astype(str)\n",
    "\n",
    "# Drop the original 'Ride_Length' columns\n",
    "bike_trip.drop(['ride_length'], axis=1, inplace=True)\n",
    "\n",
    "bike_trip.head()"
   ]
  },
  {
   "cell_type": "code",
   "execution_count": null,
   "id": "67133e98",
   "metadata": {},
   "outputs": [],
   "source": []
  }
 ],
 "metadata": {
  "kernelspec": {
   "display_name": "Python 3 (ipykernel)",
   "language": "python",
   "name": "python3"
  },
  "language_info": {
   "codemirror_mode": {
    "name": "ipython",
    "version": 3
   },
   "file_extension": ".py",
   "mimetype": "text/x-python",
   "name": "python",
   "nbconvert_exporter": "python",
   "pygments_lexer": "ipython3",
   "version": "3.10.9"
  }
 },
 "nbformat": 4,
 "nbformat_minor": 5
}
