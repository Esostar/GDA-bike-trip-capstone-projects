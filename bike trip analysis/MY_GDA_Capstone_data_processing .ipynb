{
 "cells": [
  {
   "cell_type": "markdown",
   "id": "2f6fdc5c",
   "metadata": {},
   "source": [
    "# Google Data Analytics Case Study - Cyclistic Bike Share.\n",
    "By AJALI AUGUSTINE ESOSA \n",
    "Email: ajaliesosa442@gmail.com\n",
    "\n",
    "\n",
    "\n",
    "[image.png](attachment:image.png)\n",
    "\n",
    "About Cyclistic\n",
    "In 2016, Cyclistic launched a successful bike-share offering. Since then, the program has grown to a fleet of 5,824 bicycles that are geotracked and locked into a network of 692 stations across Chicago. The bikes can be unlocked from one station and returned to any other station in the system anytime.\n",
    "\n",
    "Until now, Cyclistic’s marketing strategy relied on building general awareness and appealing to broad consumer segments. One approach that helped make these things possible was the flexibility of its pricing plans: single-ride passes, full-day passes, and annual memberships. Customers who purchase single-ride or full-day passes are referred to as casual riders. Customers who purchase annual memberships are Cyclistic members.\n",
    "\n",
    "Cyclistic’s finance analysts have concluded that annual members are much more profitable than casual riders. Although the pricing flexibility helps Cyclistic attract more customers, Moreno believes that maximizing the number of annual members will be key to future growth. Rather than creating a marketing campaign that targets all-new customers, Moreno believes there is a very good chance to convert casual riders into members. She notes that casual riders are already aware of the Cyclistic program and have chosen Cyclistic for their mobility needs.\n",
    "\n",
    "Objectives\n",
    "\n",
    "Moreno has set a clear goal: Design marketing strategies aimed at converting casual riders into annual members. In order to do that, however, the marketing analyst team needs to better understand how annual members and casual riders dier, why casual riders would buy a membership, and how digital media could affect their marketing tactics. Moreno and her team are interested in analyzing the Cyclistic historical bike trip data to identify trends.\n",
    "\n",
    "Ask\n",
    "\n",
    "Three questions will guide the future marketing program:\n",
    "\n",
    "How do annual members and casual riders use Cyclistic bikes dierently?\n",
    "Why would casual riders buy Cyclistic annual memberships?\n",
    "How can Cyclistic use digital media to influence casual riders to become members?"
   ]
  },
  {
   "cell_type": "raw",
   "id": "8b15ba9c",
   "metadata": {},
   "source": [
    "we start by installing necesary python pactakages/ liberies needed for our analysis "
   ]
  },
  {
   "cell_type": "code",
   "execution_count": null,
   "id": "4f0db5f0",
   "metadata": {},
   "outputs": [
    {
     "name": "stdout",
     "output_type": "stream",
     "text": [
      "Requirement already satisfied: numpy in c:\\users\\acer\\anaconda3\\lib\\site-packages (1.24.3)\n"
     ]
    }
   ],
   "source": [
    "# installing necessary library\n",
    "!pip install numpy \n",
    "!pip install pandas \n",
    "!pip install matplotlib \n",
    "!pip install seaborn \n",
    "!pip install scipy scikit-learn \n"
   ]
  },
  {
   "cell_type": "raw",
   "id": "24cccb5a",
   "metadata": {},
   "source": [
    "we install the necessary liberary for our analysis "
   ]
  },
  {
   "cell_type": "code",
   "execution_count": null,
   "id": "b4621e4a",
   "metadata": {},
   "outputs": [],
   "source": [
    "# importing  data analysis libraries \n",
    "import numpy as np           # For numerical operations\n",
    "import pandas as pd          # For data manipulation and analysis\n",
    "import matplotlib.pyplot as plt  # For basic data visualization\n",
    "import seaborn as sns        # For advanced data visualization\n",
    "import scipy.stats as stats  # For statistical functions\n",
    "import sklearn               # For machine learning and data preprocessing\n",
    "import statsmodels.api as sm # For statistical modeling\n",
    "import plotly.express as px  # For interactive data visualization\n",
    "import datetime              # For working with dates and times\n"
   ]
  },
  {
   "cell_type": "markdown",
   "id": "ab1a4a5a",
   "metadata": {},
   "source": [
    "We load our already loaded datasets. this dataset is the combined dataset for the january 2021 to december 2021 and i merged it using python on a defferent notebook. use the link below to follow the steps "
   ]
  },
  {
   "cell_type": "code",
   "execution_count": null,
   "id": "b3a5906e",
   "metadata": {},
   "outputs": [],
   "source": [
    "# load data into dataframe \n",
    "excel_path = r'C:\\Users\\ACER\\GDA_bike_dataset.csv'\n",
    "\n",
    "# Load the Excel file into a DataFrame\n",
    "df = pd.read_csv(excel_path)\n",
    "\n",
    "# Print the first few rows of the DataFrame\n",
    "print(df.head())"
   ]
  },
  {
   "cell_type": "markdown",
   "id": "dd14f7a5",
   "metadata": {},
   "source": [
    "# getting dataframe informations\n",
    "\n",
    "* Dataframe has 5595063 rows and 13 columns \n",
    "* it contains 4 numeric columns with type float, and 9 columns with type object and consumed aboved 560 mb memory "
   ]
  },
  {
   "cell_type": "code",
   "execution_count": null,
   "id": "ccd2a7a1",
   "metadata": {},
   "outputs": [],
   "source": [
    "# checking the shape of file\n",
    "df.shape"
   ]
  },
  {
   "cell_type": "code",
   "execution_count": null,
   "id": "477962c0",
   "metadata": {},
   "outputs": [],
   "source": [
    "# list out the columns names and types \n",
    "df.describe()"
   ]
  },
  {
   "cell_type": "code",
   "execution_count": null,
   "id": "d4b239a7",
   "metadata": {},
   "outputs": [],
   "source": [
    "df.describe(include=\"all\")"
   ]
  },
  {
   "cell_type": "markdown",
   "id": "a843036e",
   "metadata": {},
   "source": [
    "It is very obvious that there are some missing values in the datasets, however, since this miss columns were missing values exist are not relevant to our analysis we would just proceed to our next phase.\n",
    "\n",
    "our data sets is about 5595063 rows long and 13 columns wide "
   ]
  },
  {
   "cell_type": "code",
   "execution_count": null,
   "id": "24808945",
   "metadata": {},
   "outputs": [],
   "source": [
    "df.columns"
   ]
  },
  {
   "cell_type": "code",
   "execution_count": null,
   "id": "c4999af0",
   "metadata": {},
   "outputs": [],
   "source": [
    "# checking dataset info\n",
    "df.info()"
   ]
  },
  {
   "cell_type": "markdown",
   "id": "b102accf",
   "metadata": {},
   "source": [
    "The table contains contains about 9 columns with object types, and 4 columns with float types. however as we move forward we would need to do some cleaning on the dataset, such as: \n",
    "* dropping some irrevant columns to our Analysis \n",
    "* changing some columns names \n",
    "* adding extra columns, extracted from the started_at column\n",
    "* change the data types of some columns "
   ]
  },
  {
   "cell_type": "markdown",
   "id": "8b3ed0dd",
   "metadata": {},
   "source": [
    "now we will would remove some columns from the datasets, columns like start_lat, start_lng, end_lat and end_lng are not useful to our analyis"
   ]
  },
  {
   "cell_type": "code",
   "execution_count": null,
   "id": "425b1459",
   "metadata": {},
   "outputs": [],
   "source": [
    "# droping unwanted columns for analysis  \n",
    "# List of column names to drop\n",
    "columns_to_drop = ['start_lat','start_lng','end_lat','end_lng']\n",
    "\n",
    "# Drop the specified columns\n",
    "df = df.drop(columns=columns_to_drop, axis=1)\n",
    "\n",
    "df.head()\n"
   ]
  },
  {
   "cell_type": "markdown",
   "id": "fa19add1",
   "metadata": {},
   "source": [
    "columns have been dropped sucessfully "
   ]
  },
  {
   "cell_type": "markdown",
   "id": "592595c2",
   "metadata": {},
   "source": [
    "Now we want to change some column names for easy understanding \n",
    "some column to be changed are :\n",
    "* ride_id to Ride_Rental_ID\n",
    "* rideable_type to Ride_Rental_type\n",
    "* started_at to start_time \n",
    "* ended_at to End_time \n",
    "* member_casual to user_type \n",
    "\n",
    "this will help us understand the data these columns holds "
   ]
  },
  {
   "cell_type": "code",
   "execution_count": null,
   "id": "725a3330",
   "metadata": {},
   "outputs": [],
   "source": [
    "# Rename the column using the rename() method\n",
    "new_column_names = {'ride_id': 'Ride_Rental_ID'}\n",
    "df.rename(columns=new_column_names, inplace=True)\n",
    "\n",
    "new_column_names = {'rideable_type': 'Ride_Rental_type'}\n",
    "df.rename(columns=new_column_names, inplace=True)\n",
    "\n",
    "new_column_names = {'started_at': 'start_time'}\n",
    "df.rename(columns=new_column_names, inplace=True)\n",
    "\n",
    "new_column_names = {'ended_at': 'End_time'}\n",
    "df.rename(columns=new_column_names, inplace=True)\n",
    "\n",
    "\n",
    "new_column_names = {'member_casual': 'user_type'}\n",
    "df.rename(columns=new_column_names, inplace=True)\n",
    "\n",
    "\n",
    "df.head()\n"
   ]
  },
  {
   "cell_type": "markdown",
   "id": "de572a71",
   "metadata": {},
   "source": [
    "column  name was changed sucessfully "
   ]
  },
  {
   "cell_type": "markdown",
   "id": "b432ec9e",
   "metadata": {},
   "source": [
    "in the User_type column it is obsereved that there are four  distinct naming conventions for the two different users we would make the naming for customer options to be consistent \n",
    "* Subscriber = members \n",
    "* customers = casual \n",
    "|\n",
    "finally we check to see if it was sucessfully done "
   ]
  },
  {
   "cell_type": "code",
   "execution_count": null,
   "id": "4403184c",
   "metadata": {},
   "outputs": [],
   "source": [
    "# replacing the custormer with casual and subcriber with member in the user_type column \n",
    "df['user_type'] = df['user_type'].replace({'subcriber':'member', 'customer':'casual'})\n",
    "\n",
    "# counting distinct values in the user_type column \n",
    "distinct_value_user_type_column = df['user_type'].nunique()\n",
    "print(\"Number of distinct values in user_type column:\", distinct_value_user_type_column)\n"
   ]
  },
  {
   "cell_type": "code",
   "execution_count": null,
   "id": "fc7c0b77",
   "metadata": {},
   "outputs": [],
   "source": [
    "# Get the list of unique values in the 'column_name' column\n",
    "unique_values = df['user_type'].unique()\n",
    "\n",
    "print(unique_values)"
   ]
  },
  {
   "cell_type": "code",
   "execution_count": null,
   "id": "e05b216a",
   "metadata": {},
   "outputs": [],
   "source": [
    "df.columns"
   ]
  },
  {
   "cell_type": "markdown",
   "id": "e103e64f",
   "metadata": {},
   "source": [
    "# adding columns \n",
    "\n",
    "To effectively analyze by day, months etc, we would create 4 extra columns from start_time column as follows:\n",
    "* date columns to extract date \n",
    "* day of the week columns to extract the actual day of the week that ride took place \n",
    "* the day of the months \n",
    "* the months name \n",
    "\n",
    "There wont be any need for us to extract year since our dataset covers only 2021 from january to december. \n",
    "However, we have to change the start_time column to datatime "
   ]
  },
  {
   "cell_type": "code",
   "execution_count": null,
   "id": "035cd2bb",
   "metadata": {},
   "outputs": [],
   "source": [
    "# Convert 'start_time' and 'end_time' columns to datetime\n",
    "df['start_time'] = pd.to_datetime(df['start_time'])\n",
    "df['End_time'] = pd.to_datetime(df['End_time'])\n",
    "\n",
    "# creating new column for ride lenth in seconds \n",
    "df['ride_length(in_sec)'] = (df['End_time'] - df['start_time']).dt.total_seconds()\n",
    "\n",
    "df.head()"
   ]
  },
  {
   "cell_type": "code",
   "execution_count": null,
   "id": "d5db4960",
   "metadata": {},
   "outputs": [],
   "source": [
    "# creating 4 columns to extract date, days_of_weeek, month, day from start_time column\n",
    "df['Date'] = df['start_time'].dt.date\n",
    "df['Day'] = df['start_time'].dt.day\n",
    "df['Month'] = df['start_time'].dt.strftime('%B')\n",
    "df['days_of_week'] = df['start_time'].dt.strftime('%A')\n",
    "# Extract the day of the month from 'start_time'\n",
    "df['day_of_month'] = df['start_time'].dt.day\n",
    "\n",
    "df.head()\n"
   ]
  },
  {
   "cell_type": "code",
   "execution_count": null,
   "id": "e7230247",
   "metadata": {},
   "outputs": [],
   "source": [
    "# check data \n",
    "df.info()"
   ]
  },
  {
   "cell_type": "code",
   "execution_count": null,
   "id": "f802f66b",
   "metadata": {},
   "outputs": [],
   "source": [
    "# changing ride_length to integer\n",
    "df['ride_length(in_sec)'] = df['ride_length(in_sec)'].astype(int)\n",
    "\n",
    "df.info()"
   ]
  },
  {
   "cell_type": "code",
   "execution_count": null,
   "id": "98b19daa",
   "metadata": {},
   "outputs": [],
   "source": [
    "df['Day'] = df['Day'].astype(str)\n",
    "df['Month'] = df['Month'].astype(str)\n",
    "df['days_of_week'] = df['days_of_week'].astype(str)\n",
    "df.info()"
   ]
  },
  {
   "cell_type": "code",
   "execution_count": null,
   "id": "66fc861a",
   "metadata": {},
   "outputs": [],
   "source": [
    "df.describe(include=\"all\")"
   ]
  },
  {
   "cell_type": "markdown",
   "id": "28680bb6",
   "metadata": {},
   "source": [
    "The minimum ride length seem to be erroneous since a travel time cannot be negative.\n",
    "\n",
    "The maximum time looks more like an outlier."
   ]
  },
  {
   "cell_type": "code",
   "execution_count": null,
   "id": "0760e6ee",
   "metadata": {},
   "outputs": [],
   "source": [
    "# check for nagative values in the ride_length column \n",
    "for_negative_values = (df['ride_length(in_sec)'] < 0).any()\n",
    "\n",
    "print(\"Does 'ride_length' column have negative values:\", for_negative_values)\n",
    "\n",
    "# check for zero values \n",
    "for_zero_values = (df['ride_length(in_sec)'] == 0).any()\n",
    "\n",
    "print(\"Does 'ride_length' column zero values:\", for_zero_values)\n",
    "\n"
   ]
  },
  {
   "cell_type": "code",
   "execution_count": null,
   "id": "c0e3677a",
   "metadata": {},
   "outputs": [],
   "source": [
    "# Create a box plot for the 'ride_length' column\n",
    "plt.boxplot(df['ride_length(in_sec)'], vert=False)\n",
    "\n",
    "# Set labels and title\n",
    "plt.xlabel('Ride Length(in_sec)')\n",
    "plt.ylabel('Seconds')\n",
    "plt.title('Box Plot of Ride Length')\n",
    "\n",
    "# Display the plot\n",
    "plt.show()"
   ]
  },
  {
   "cell_type": "markdown",
   "id": "f635a095",
   "metadata": {},
   "source": [
    "now we delect the row where the ride length carries negative values and display a box plot \n"
   ]
  },
  {
   "cell_type": "code",
   "execution_count": null,
   "id": "e3eb3401",
   "metadata": {},
   "outputs": [],
   "source": [
    "# delecting row where ride_length got negative and zero values \n",
    "df = df.loc[df['ride_length(in_sec)'] >0 ]\n",
    "\n",
    "# checking for negative again\n",
    "check_negative_values = (df['ride_length(in_sec)'] < 0).any()\n",
    "\n",
    "print(\"Does 'ride_length' column have negative values:\", check_negative_values)\n",
    "\n"
   ]
  },
  {
   "cell_type": "code",
   "execution_count": null,
   "id": "0d319947",
   "metadata": {},
   "outputs": [],
   "source": [
    "plt.boxplot(df['ride_length(in_sec)'], vert=False)\n",
    "\n",
    "# Set labels and title\n",
    "plt.xlabel('Ride Length(in_sec)')\n",
    "plt.ylabel('Seconds')\n",
    "plt.title('Box Plot of Ride Length')\n",
    "\n",
    "# Display the plot\n",
    "plt.show()"
   ]
  },
  {
   "cell_type": "markdown",
   "id": "6326c27b",
   "metadata": {},
   "source": [
    "we then proceed to check if there are missing values in the dataframe "
   ]
  },
  {
   "cell_type": "code",
   "execution_count": null,
   "id": "43a492c2",
   "metadata": {},
   "outputs": [],
   "source": [
    "# check for missing values in the datasets \n",
    "missing_values = df.isnull().sum()\n",
    "\n",
    "print(missing_values) "
   ]
  },
  {
   "cell_type": "markdown",
   "id": "4511580e",
   "metadata": {},
   "source": [
    "iam 100% sure the dataframe have no missing values for columns that are relevant to our analyses, so we proceed to the next step"
   ]
  },
  {
   "cell_type": "markdown",
   "id": "d7a25b06",
   "metadata": {},
   "source": [
    "we would have to remove outliers from our datasets \n",
    "to achieve this we would cap our dataset by ride_length equals to values below or equal to 3 days (259200 seconds)"
   ]
  },
  {
   "cell_type": "code",
   "execution_count": null,
   "id": "f6a55970",
   "metadata": {},
   "outputs": [],
   "source": [
    "df = df[df['ride_length(in_sec)']<259200]\n"
   ]
  },
  {
   "cell_type": "code",
   "execution_count": null,
   "id": "4281f422",
   "metadata": {},
   "outputs": [],
   "source": [
    "plt.boxplot(df['ride_length(in_sec)'], vert=False)\n",
    "\n",
    "# Set labels and title\n",
    "plt.xlabel('Ride Length(in_sec)')\n",
    "plt.ylabel('Seconds')\n",
    "plt.title('Box Plot of Ride Length')\n",
    "\n",
    "# Display the plot\n",
    "plt.show()"
   ]
  },
  {
   "cell_type": "code",
   "execution_count": null,
   "id": "f9708811",
   "metadata": {},
   "outputs": [],
   "source": [
    "df['ride_length(in_sec)'].describe().round(2)"
   ]
  },
  {
   "cell_type": "markdown",
   "id": "a4f62348",
   "metadata": {},
   "source": [
    "comparing the previous boxplot with this and observing the table of the statistics of the ride length column, we can confidently say out datset is clean enough for analyis. the outleir are gone which is evidence in the standard deviation values of 3383 seconds with is approximamtly 1 day"
   ]
  },
  {
   "cell_type": "markdown",
   "id": "a8f86a24",
   "metadata": {},
   "source": [
    "Now our data is clean and ready to use for Analysis "
   ]
  },
  {
   "cell_type": "markdown",
   "id": "9bf695e5",
   "metadata": {},
   "source": [
    "# Analysis of the Datasets \n",
    "The main objective of this project was to answer the question: \"How do Members and Casual Riders use Cyclistic Bike differently?\"\n",
    "\n",
    "To answer these questions, I will make a list of some sub-questions to ask. The answers from these questions will provide a considerable insights into how Members and Casual Riders differs from each other in their Cyclistic bike use.\n",
    "\n",
    "* What is the average ride length or ride time between Members and Casual Riders?\n",
    "* Average ride length or ride time by days of the week for Members and Casual Riders?\n",
    "* Between Members and Casual Riders, who rides most during weekdays and weekends?\n",
    "* What type of bikes do Members and Casual Riders prefer?\n",
    "* The difference in ridership trend between Members and Casual Riders"
   ]
  },
  {
   "cell_type": "markdown",
   "id": "2939f3df",
   "metadata": {},
   "source": [
    "# ride_length analysis\n",
    "The ride length analysis will be done in the following stages \n",
    "* Explore ride length count by user type \n",
    "* Explore ride length based on weekdays and weekends by user type  \n",
    "* Explore ride length based on quarters of the years"
   ]
  },
  {
   "cell_type": "code",
   "execution_count": null,
   "id": "d3a08bb3",
   "metadata": {},
   "outputs": [],
   "source": [
    "# ride length total in sec  by user type \n",
    "ride_length_by_user_type = df.groupby('user_type')['ride_length(in_sec)'].describe().round(2)\n",
    "\n",
    "print(ride_length_by_user_type)"
   ]
  },
  {
   "cell_type": "markdown",
   "id": "8ecbfaff",
   "metadata": {},
   "source": [
    "# insight:\n",
    " \n",
    "* The average ride time for Casual riders : 1730 sec\n",
    "* The average ride time for Members riders : 818 sec\n",
    "* The average ride time of the casual riders is more than twice that of the members.\n",
    "* There are more member riders than there are casual riders\n"
   ]
  },
  {
   "cell_type": "markdown",
   "id": "20943318",
   "metadata": {},
   "source": [
    "create a pivot table to check ride_time by days of the week based on casual vs members "
   ]
  },
  {
   "cell_type": "code",
   "execution_count": null,
   "id": "d0681f1e",
   "metadata": {},
   "outputs": [],
   "source": [
    "# tabulate average ride_time for each day for members vs casual in user_type column\n",
    "# Group by 'user_type' and 'day_of_week' and calculate the average ride time\n",
    "avg_ride_time = df.groupby(['user_type', 'days_of_week'])['ride_length(in_sec)'].mean().round(2)\n",
    "# converting to int\n",
    "\n",
    "# Convert the result into a pivot table\n",
    "summary_avg_ride_time = avg_ride_time.reset_index().pivot_table(index='days_of_week', columns='user_type', values='ride_length(in_sec)')\n",
    "\n",
    "print(summary_avg_ride_time)"
   ]
  },
  {
   "cell_type": "markdown",
   "id": "10493f52",
   "metadata": {},
   "source": [
    "# insights \n",
    "the following can be observed from the above table;\n",
    "* Both casual and member riders have their maximum ride time on weekends (sunday and saturday)\n",
    "* On weekdays Members riders, have a ride length of approximately 800 seconds\n",
    "* Generally, casual riders spend more time riding than Member riders for each day of the week"
   ]
  },
  {
   "cell_type": "markdown",
   "id": "a516fc16",
   "metadata": {},
   "source": [
    "# Ride volume Analysis\n",
    "\n",
    "We carry out the following analysis for Ride volume:\n",
    "* compare ride volumn sum for casual vs member \n",
    "* compare ride volume for each months for casual vs member \n",
    "* compare ride_volume for each day of the week for casual vs member \n",
    "* compare ride_volume for each hours of the day for casual vs member \n",
    "* compare ride volume by user types "
   ]
  },
  {
   "cell_type": "code",
   "execution_count": null,
   "id": "1d579ba5",
   "metadata": {},
   "outputs": [],
   "source": [
    "# ride volume year total by user type \n",
    "ride_volume_by_user_type = df.groupby('user_type')['Ride_Rental_ID'].count().round(2)\n",
    "\n",
    "print(ride_volume_by_user_type)"
   ]
  },
  {
   "cell_type": "code",
   "execution_count": null,
   "id": "620b07b1",
   "metadata": {},
   "outputs": [],
   "source": [
    "# tabulating ride volume for each months for casual vs members \n",
    "# Group by 'user_type' and 'month' and calculate the ride volume\n",
    "summary_ride_volume = df.groupby(['user_type', 'Month']).size()\n",
    "\n",
    "print(summary_ride_volume)"
   ]
  },
  {
   "cell_type": "code",
   "execution_count": null,
   "id": "39b0d741",
   "metadata": {},
   "outputs": [],
   "source": [
    "# Group by 'user_type' and 'day of week' and calculate the ride volume\n",
    "day_ride_volume = df.groupby(['user_type', 'days_of_week']).size()\n",
    "\n",
    "print(day_ride_volume)"
   ]
  },
  {
   "cell_type": "code",
   "execution_count": null,
   "id": "cfff6c58",
   "metadata": {},
   "outputs": [],
   "source": [
    "# ride rental type volume by user type\n",
    "rental_type_volume = df.groupby(['user_type', 'Ride_Rental_type']).size()\n",
    "\n",
    "print(rental_type_volume)"
   ]
  },
  {
   "cell_type": "markdown",
   "id": "6c632286",
   "metadata": {},
   "source": [
    "# Insights on Ride Volume Analysis \n",
    "* There are more member riders for each months of the first quarter and last quarter of the years \n",
    "* only the months of june, july, and august recorded more casual riders than member riders \n",
    "* casual riders use cyclist more on weekends(saturdays and sundays) while Members riders use cyclist more on weekdays(from monday to friday) \n",
    "* member riders are not really interested in utilizing Docked bikes for their trips \n"
   ]
  },
  {
   "cell_type": "code",
   "execution_count": null,
   "id": "e273ac33",
   "metadata": {},
   "outputs": [],
   "source": []
  },
  {
   "cell_type": "code",
   "execution_count": null,
   "id": "e3184d63",
   "metadata": {},
   "outputs": [],
   "source": []
  }
 ],
 "metadata": {
  "kernelspec": {
   "display_name": "Python 3 (ipykernel)",
   "language": "python",
   "name": "python3"
  },
  "language_info": {
   "codemirror_mode": {
    "name": "ipython",
    "version": 3
   },
   "file_extension": ".py",
   "mimetype": "text/x-python",
   "name": "python",
   "nbconvert_exporter": "python",
   "pygments_lexer": "ipython3",
   "version": "3.11.4"
  }
 },
 "nbformat": 4,
 "nbformat_minor": 5
}
