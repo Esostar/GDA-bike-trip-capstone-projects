{
 "cells": [
  {
   "cell_type": "markdown",
   "id": "48e6d695",
   "metadata": {},
   "source": [
    "# DISCRIPTIVE ANALYSIS \n",
    "\n",
    "This work book contains the discriptive analysis and visualization phase of the Cyclistic Bike_Trip Datasets. in our previous notebooks we have merged the Cylistics bike trip datasets for 2021 using python, and in another notebook proper cleaning of the datasets was done and now we will proceed to the analyses and visualization phase. \n",
    "\n",
    "Descriptive analysis in data analysis involves summarizing and presenting the key characteristics, patterns, and trends in a dataset. It provides an initial understanding of the data, enabling insights and aiding in decision-making. Here are the main aspects of descriptive analysis:\n",
    "\n",
    "1. **Central Tendency Measures:**\n",
    "   - Mean: The average value of the data points.\n",
    "   - Median: The middle value when the data is sorted.\n",
    "   - Mode: The most frequently occurring value.\n",
    "\n",
    "2. **Dispersion Measures:**\n",
    "   - Range: The difference between the maximum and minimum values.\n",
    "   - Variance: The average of the squared differences from the mean.\n",
    "   - Standard Deviation: The square root of the variance, indicating the spread of data.\n",
    "\n",
    "3. **Percentiles:**\n",
    "   - Percentiles divide data into percentages, such as the 25th, 50th (median), and 75th percentiles.\n",
    "\n",
    "4. **Distribution Analysis:**\n",
    "   - Histogram: A graphical representation of the frequency distribution of data.\n",
    "   - Skewness: Measures the asymmetry of the distribution.\n",
    "   - Kurtosis: Measures the tail behavior of the distribution.\n",
    "\n",
    "5. **Data Visualization:**\n",
    "   - Box Plots: Show the distribution's spread, median, and outliers.\n",
    "   - Scatter Plots: Display relationships between two variables.\n",
    "   - Line Charts: Visualize trends over time or sequential data.\n",
    "   - Bar Charts: Compare categorical data.\n",
    "   - Pie Charts: Display the composition of parts in a whole.\n",
    "\n",
    "6. **Summary Statistics:**\n",
    "   - Count: Total number of data points.\n",
    "   - Missing Values: Identifying and counting missing data.\n",
    "   - Sum: Total sum of values.\n",
    "   - Frequency Counts: Count occurrences of categorical values.\n",
    "   - Cross-Tabulation: Creating contingency tables for two categorical variables.\n",
    "\n",
    "7. **Data Transformation:**\n",
    "   - Standardization: Scaling data to have a mean of 0 and a standard deviation of 1.\n",
    "   - Normalization: Scaling data to a specific range, often between 0 and 1.\n",
    "\n",
    "8. **Data Exploration:**\n",
    "   - Exploring relationships between variables.\n",
    "   - Identifying outliers or anomalies.\n",
    "   - Recognizing patterns, trends, and irregularities.\n",
    "\n",
    "Descriptive analysis serves as the foundation for more advanced analyses, helping analysts to gain insights into the data's characteristics and preparing the data for further modeling or decision-making processes.\n"
   ]
  }
 ],
 "metadata": {
  "kernelspec": {
   "display_name": "Python 3 (ipykernel)",
   "language": "python",
   "name": "python3"
  },
  "language_info": {
   "codemirror_mode": {
    "name": "ipython",
    "version": 3
   },
   "file_extension": ".py",
   "mimetype": "text/x-python",
   "name": "python",
   "nbconvert_exporter": "python",
   "pygments_lexer": "ipython3",
   "version": "3.10.9"
  }
 },
 "nbformat": 4,
 "nbformat_minor": 5
}
